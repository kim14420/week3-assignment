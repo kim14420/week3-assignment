{
  "nbformat": 4,
  "nbformat_minor": 0,
  "metadata": {
    "colab": {
      "provenance": [],
      "collapsed_sections": []
    },
    "kernelspec": {
      "name": "python3",
      "display_name": "Python 3"
    },
    "language_info": {
      "name": "python"
    }
  },
  "cells": [
    {
      "cell_type": "code",
      "execution_count": 29,
      "metadata": {
        "id": "jnsjr2cG7G6s",
        "colab": {
          "base_uri": "https://localhost:8080/"
        },
        "outputId": "eae62f79-5551-4352-cbec-289848e8bf1e"
      },
      "outputs": [
        {
          "output_type": "stream",
          "name": "stdout",
          "text": [
            "용도 : 1:주택용, 2:공업용, 3:산업용?1\n",
            "사용량(kwh)?57\n",
            "용도:1, 사용량:57.00, 전기요금:5,926.00원\n"
          ]
        }
      ],
      "source": [
        "use = int(input(\"용도 : 1:주택용, 2:공업용, 3:산업용?\"))\n",
        "usage = float(input(\"사용량(kwh)?\"))\n",
        "\n",
        "if (use <= 3) :\n",
        "  if (use == 1):\n",
        "    total = usage * 88 + 910\n",
        "    print (f\"용도:1, 사용량:{usage:.2f}, 전기요금:{total:,.2f}원\")\n",
        "  else : \n",
        "    if (use == 2):\n",
        "      total = usage * 182 + 1600\n",
        "      print (f\"용도:2, 사용량:{usage:.2f}, 전기요금:{total:,.2f}원\")\n",
        "    else:\n",
        "      if (use == 3) :\n",
        "        total = usage * 275 + 7300 \n",
        "        print (f\"용도:2, 사용량:{usage:.2f}, 전기요금:{total:,.2f}원\")\n",
        "      \n",
        "\n",
        "else : \n",
        "  print (\"용도를 다시입력하세요.\")"
      ]
    },
    {
      "cell_type": "code",
      "source": [
        "name = str(input(\"이름 : \"))\n",
        "korean= int(input(\"국어점수:\"))\n",
        "english= int(input(\"영어점수:\"))\n",
        "math= int(input(\"수학점수:\"))\n",
        "\n",
        "total = korean + english + math\n",
        "average = total / 3\n",
        "\n",
        "if (average >= 95):\n",
        "  print (f\"{name}군의 총점은 {total}점, 평균은 {average:.2f} 점, 학점은 A+ 학점 입니다.\")\n",
        "elif (average >= 90):\n",
        "  print (f\"{name}군의 총점은 {total}점, 평균은 {average:.2f} 점, 학점은 A 학점 입니다.\")\n",
        "elif (average >= 85):\n",
        "  print (f\"{name}군의 총점은 {total}점, 평균은 {average:.2f} 점, 학점은 B+ 학점 입니다.\")\n",
        "elif (average >= 80):\n",
        "  print (f\"{name}군의 총점은 {total}점, 평균은 {average:.2f} 점, 학점은 B 학점 입니다.\")\n",
        "elif (average >= 75):\n",
        "  print (f\"{name}군의 총점은 {total}점, 평균은 {average:.2f} 점, 학점은 C+ 학점 입니다.\")\n",
        "elif (average >= 70):\n",
        "  print (f\"{name}군의 총점은 {total}점, 평균은 {average:.2f} 점, 학점은 C 학점 입니다.\")\n",
        "elif (average >= 65):\n",
        "  print (f\"{name}군의 총점은 {total}점, 평균은 {average:.2f} 점, 학점은 D+ 학점 입니다.\")\n",
        "elif (average >= 60):\n",
        "  print (f\"{name}군의 총점은 {total}점, 평균은 {average:.2f} 점, 학점은 D 학점 입니다.\")\n",
        "else :\n",
        "  print (f\"{name}군의 총점은 {total}점, 평균은 {average:.2f} 점, 학점은 F 학점 입니다.\")"
      ],
      "metadata": {
        "colab": {
          "base_uri": "https://localhost:8080/"
        },
        "id": "Urf4ml4Ebtfj",
        "outputId": "9736fbaa-cb36-4564-cd45-c74b94a8978d"
      },
      "execution_count": 30,
      "outputs": [
        {
          "output_type": "stream",
          "name": "stdout",
          "text": [
            "이름 : 홍길동\n",
            "국어점수:90\n",
            "영어점수:80\n",
            "수학점수:75\n",
            "홍길동군의 총점은 245점, 평균은 81.67 점, 학점은 B 학점 입니다.\n"
          ]
        }
      ]
    }
  ]
}